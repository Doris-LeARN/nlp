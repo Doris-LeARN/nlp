{
 "cells": [
  {
   "cell_type": "code",
   "execution_count": 1,
   "id": "3af6f9ab",
   "metadata": {},
   "outputs": [],
   "source": [
    "from confluent_kafka import Producer, Consumer"
   ]
  },
  {
   "cell_type": "code",
   "execution_count": 2,
   "id": "3cf9f222",
   "metadata": {},
   "outputs": [],
   "source": [
    "producer_config = {\n",
    "    'bootstrap.servers': 'localhost:9092'\n",
    "}\n",
    "\n",
    "consumer_config = {\n",
    "    'bootstrap.servers': 'localhost:9092',\n",
    "    'group.id': 'wiada',\n",
    "    'auto.offset.reset': 'earliest'\n",
    "}\n"
   ]
  },
  {
   "cell_type": "code",
   "execution_count": 3,
   "id": "2529235c",
   "metadata": {},
   "outputs": [],
   "source": [
    "producer = Producer(producer_config)\n",
    "consumer = Consumer(consumer_config)\n"
   ]
  },
  {
   "cell_type": "code",
   "execution_count": 4,
   "id": "d17f4c15",
   "metadata": {},
   "outputs": [],
   "source": [
    "def send_events(producer, topic, message):\n",
    "    producer.produce(topic, message)\n",
    "    producer.flush()\n",
    "\n",
    "def receive_events(consumer, topic):\n",
    "    consumer.subscribe(topic)  # Correction de la faute de frappe\n",
    "    ##while True:\n",
    "    msg = consumer.poll()\n",
    "    #if msg is None:\n",
    "    #continue\n",
    "    print(msg.value().decode(\"utf-8\"))\n",
    "\n",
    "def events_manager():\n",
    "    for i in range(10):\n",
    "        event = input(\"Ecrivez votre message: \")\n",
    "        send_events(producer, \"wiada\", event)\n",
    "        receive_events(consumer, [\"wiada\"])\n",
    "\n"
   ]
  },
  {
   "cell_type": "code",
   "execution_count": null,
   "id": "405908bf",
   "metadata": {},
   "outputs": [
    {
     "name": "stdout",
     "output_type": "stream",
     "text": [
      "Ecrivez votre message: Ange\n",
      "Ange\n"
     ]
    },
    {
     "name": "stderr",
     "output_type": "stream",
     "text": [
      "%4|1709116128.010|MAXPOLL|rdkafka#consumer-2| [thrd:main]: Application maximum poll interval (300000ms) exceeded by 498ms (adjust max.poll.interval.ms for long-running message processing): leaving group\n"
     ]
    }
   ],
   "source": [
    "# Appel de la fonction events_manager\n",
    "events_manager()"
   ]
  },
  {
   "cell_type": "code",
   "execution_count": null,
   "id": "b5b78f3d",
   "metadata": {},
   "outputs": [],
   "source": []
  }
 ],
 "metadata": {
  "kernelspec": {
   "display_name": "Python 3 (ipykernel)",
   "language": "python",
   "name": "python3"
  },
  "language_info": {
   "codemirror_mode": {
    "name": "ipython",
    "version": 3
   },
   "file_extension": ".py",
   "mimetype": "text/x-python",
   "name": "python",
   "nbconvert_exporter": "python",
   "pygments_lexer": "ipython3",
   "version": "3.11.5"
  }
 },
 "nbformat": 4,
 "nbformat_minor": 5
}
