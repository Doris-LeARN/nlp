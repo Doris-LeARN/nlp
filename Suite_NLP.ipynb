{
 "cells": [
  {
   "cell_type": "markdown",
   "id": "0ef03bdb",
   "metadata": {},
   "source": [
    "## Séance du Mardi 06/02/2024"
   ]
  },
  {
   "cell_type": "code",
   "execution_count": 113,
   "id": "2d785156",
   "metadata": {},
   "outputs": [
    {
     "name": "stderr",
     "output_type": "stream",
     "text": [
      "[nltk_data] Downloading package stopwords to\n",
      "[nltk_data]     C:\\Users\\HD\\AppData\\Roaming\\nltk_data...\n",
      "[nltk_data]   Package stopwords is already up-to-date!\n"
     ]
    },
    {
     "data": {
      "text/plain": [
       "True"
      ]
     },
     "execution_count": 113,
     "metadata": {},
     "output_type": "execute_result"
    }
   ],
   "source": [
    "import nltk\n",
    "from nltk.stem import WordNetLemmatizer, PorterStemmer\n",
    "from nltk.corpus import stopwords\n",
    "from nltk.tokenize import word_tokenize\n",
    "from wordcloud import WordCloud\n",
    "import math #Alternative de numpy pour certains calculs\n",
    "import numpy as np\n",
    "import pandas as pd\n",
    "import matplotlib.pyplot as plt \n",
    "nltk.download(\"stopwords\")"
   ]
  },
  {
   "cell_type": "code",
   "execution_count": 6,
   "id": "7d8322df",
   "metadata": {},
   "outputs": [],
   "source": [
    "stop_w = stopwords.words(\"french\")"
   ]
  },
  {
   "cell_type": "code",
   "execution_count": 7,
   "id": "97f7abe1",
   "metadata": {},
   "outputs": [
    {
     "data": {
      "text/plain": [
       "['au',\n",
       " 'aux',\n",
       " 'avec',\n",
       " 'ce',\n",
       " 'ces',\n",
       " 'dans',\n",
       " 'de',\n",
       " 'des',\n",
       " 'du',\n",
       " 'elle',\n",
       " 'en',\n",
       " 'et',\n",
       " 'eux',\n",
       " 'il',\n",
       " 'ils',\n",
       " 'je',\n",
       " 'la',\n",
       " 'le',\n",
       " 'les',\n",
       " 'leur',\n",
       " 'lui',\n",
       " 'ma',\n",
       " 'mais',\n",
       " 'me',\n",
       " 'même',\n",
       " 'mes',\n",
       " 'moi',\n",
       " 'mon',\n",
       " 'ne',\n",
       " 'nos',\n",
       " 'notre',\n",
       " 'nous',\n",
       " 'on',\n",
       " 'ou',\n",
       " 'par',\n",
       " 'pas',\n",
       " 'pour',\n",
       " 'qu',\n",
       " 'que',\n",
       " 'qui',\n",
       " 'sa',\n",
       " 'se',\n",
       " 'ses',\n",
       " 'son',\n",
       " 'sur',\n",
       " 'ta',\n",
       " 'te',\n",
       " 'tes',\n",
       " 'toi',\n",
       " 'ton',\n",
       " 'tu',\n",
       " 'un',\n",
       " 'une',\n",
       " 'vos',\n",
       " 'votre',\n",
       " 'vous',\n",
       " 'c',\n",
       " 'd',\n",
       " 'j',\n",
       " 'l',\n",
       " 'à',\n",
       " 'm',\n",
       " 'n',\n",
       " 's',\n",
       " 't',\n",
       " 'y',\n",
       " 'été',\n",
       " 'étée',\n",
       " 'étées',\n",
       " 'étés',\n",
       " 'étant',\n",
       " 'étante',\n",
       " 'étants',\n",
       " 'étantes',\n",
       " 'suis',\n",
       " 'es',\n",
       " 'est',\n",
       " 'sommes',\n",
       " 'êtes',\n",
       " 'sont',\n",
       " 'serai',\n",
       " 'seras',\n",
       " 'sera',\n",
       " 'serons',\n",
       " 'serez',\n",
       " 'seront',\n",
       " 'serais',\n",
       " 'serait',\n",
       " 'serions',\n",
       " 'seriez',\n",
       " 'seraient',\n",
       " 'étais',\n",
       " 'était',\n",
       " 'étions',\n",
       " 'étiez',\n",
       " 'étaient',\n",
       " 'fus',\n",
       " 'fut',\n",
       " 'fûmes',\n",
       " 'fûtes',\n",
       " 'furent',\n",
       " 'sois',\n",
       " 'soit',\n",
       " 'soyons',\n",
       " 'soyez',\n",
       " 'soient',\n",
       " 'fusse',\n",
       " 'fusses',\n",
       " 'fût',\n",
       " 'fussions',\n",
       " 'fussiez',\n",
       " 'fussent',\n",
       " 'ayant',\n",
       " 'ayante',\n",
       " 'ayantes',\n",
       " 'ayants',\n",
       " 'eu',\n",
       " 'eue',\n",
       " 'eues',\n",
       " 'eus',\n",
       " 'ai',\n",
       " 'as',\n",
       " 'avons',\n",
       " 'avez',\n",
       " 'ont',\n",
       " 'aurai',\n",
       " 'auras',\n",
       " 'aura',\n",
       " 'aurons',\n",
       " 'aurez',\n",
       " 'auront',\n",
       " 'aurais',\n",
       " 'aurait',\n",
       " 'aurions',\n",
       " 'auriez',\n",
       " 'auraient',\n",
       " 'avais',\n",
       " 'avait',\n",
       " 'avions',\n",
       " 'aviez',\n",
       " 'avaient',\n",
       " 'eut',\n",
       " 'eûmes',\n",
       " 'eûtes',\n",
       " 'eurent',\n",
       " 'aie',\n",
       " 'aies',\n",
       " 'ait',\n",
       " 'ayons',\n",
       " 'ayez',\n",
       " 'aient',\n",
       " 'eusse',\n",
       " 'eusses',\n",
       " 'eût',\n",
       " 'eussions',\n",
       " 'eussiez',\n",
       " 'eussent']"
      ]
     },
     "execution_count": 7,
     "metadata": {},
     "output_type": "execute_result"
    }
   ],
   "source": [
    "stop_w"
   ]
  },
  {
   "cell_type": "code",
   "execution_count": 14,
   "id": "5595f63d",
   "metadata": {},
   "outputs": [],
   "source": [
    "phrase_1 = \"je suis consolas Hodonou, agronome de formation\"\n",
    "phrase_2 = \"je suis étudiante en biostatistiques\"\n",
    "phrase_3 = \"elle est passionnée d'intelligence artificielle et de big data.\""
   ]
  },
  {
   "cell_type": "code",
   "execution_count": 15,
   "id": "bc020331",
   "metadata": {},
   "outputs": [],
   "source": [
    "tokens = phrase_1.split() + phrase_2.split() + phrase_3.split()"
   ]
  },
  {
   "cell_type": "code",
   "execution_count": 16,
   "id": "e4d9e4eb",
   "metadata": {},
   "outputs": [
    {
     "data": {
      "text/plain": [
       "['je',\n",
       " 'suis',\n",
       " 'consolas',\n",
       " 'Hodonou,',\n",
       " 'agronome',\n",
       " 'de',\n",
       " 'formation',\n",
       " 'je',\n",
       " 'suis',\n",
       " 'étudiante',\n",
       " 'en',\n",
       " 'biostatistiques',\n",
       " 'elle',\n",
       " 'est',\n",
       " 'passionnée',\n",
       " \"d'intelligence\",\n",
       " 'artificielle',\n",
       " 'et',\n",
       " 'de',\n",
       " 'big',\n",
       " 'data.']"
      ]
     },
     "execution_count": 16,
     "metadata": {},
     "output_type": "execute_result"
    }
   ],
   "source": [
    "tokens"
   ]
  },
  {
   "cell_type": "code",
   "execution_count": 17,
   "id": "916c1ea2",
   "metadata": {},
   "outputs": [],
   "source": [
    "tokens = [elt for elt in tokens if elt not in stop_w]"
   ]
  },
  {
   "cell_type": "code",
   "execution_count": 18,
   "id": "49e7d32b",
   "metadata": {},
   "outputs": [
    {
     "data": {
      "text/plain": [
       "['consolas',\n",
       " 'Hodonou,',\n",
       " 'agronome',\n",
       " 'formation',\n",
       " 'étudiante',\n",
       " 'biostatistiques',\n",
       " 'passionnée',\n",
       " \"d'intelligence\",\n",
       " 'artificielle',\n",
       " 'big',\n",
       " 'data.']"
      ]
     },
     "execution_count": 18,
     "metadata": {},
     "output_type": "execute_result"
    }
   ],
   "source": [
    "tokens"
   ]
  },
  {
   "cell_type": "code",
   "execution_count": 20,
   "id": "c976f92f",
   "metadata": {},
   "outputs": [],
   "source": [
    "vect_1 = [phrase_1.count(elt) for elt in tokens]"
   ]
  },
  {
   "cell_type": "code",
   "execution_count": 21,
   "id": "b379fd7a",
   "metadata": {},
   "outputs": [
    {
     "data": {
      "text/plain": [
       "[1, 1, 1, 1, 0, 0, 0, 0, 0, 0, 0]"
      ]
     },
     "execution_count": 21,
     "metadata": {},
     "output_type": "execute_result"
    }
   ],
   "source": [
    "vect_1"
   ]
  },
  {
   "cell_type": "code",
   "execution_count": 22,
   "id": "5bed99e7",
   "metadata": {},
   "outputs": [],
   "source": [
    "#Define a function\n",
    "\n",
    "def vectorize_sentence(sentence,tokens):\n",
    "    return[sentence.count(elt) for elt in tokens]"
   ]
  },
  {
   "cell_type": "code",
   "execution_count": 24,
   "id": "f84fd215",
   "metadata": {},
   "outputs": [],
   "source": [
    "vect_1 = vectorize_sentence(phrase_1, tokens)"
   ]
  },
  {
   "cell_type": "code",
   "execution_count": 25,
   "id": "05d30ae5",
   "metadata": {},
   "outputs": [
    {
     "data": {
      "text/plain": [
       "[1, 1, 1, 1, 0, 0, 0, 0, 0, 0, 0]"
      ]
     },
     "execution_count": 25,
     "metadata": {},
     "output_type": "execute_result"
    }
   ],
   "source": [
    "vect_1"
   ]
  },
  {
   "cell_type": "code",
   "execution_count": 26,
   "id": "2119be37",
   "metadata": {},
   "outputs": [],
   "source": [
    "vect_2 = vectorize_sentence(phrase_2,tokens)"
   ]
  },
  {
   "cell_type": "code",
   "execution_count": 27,
   "id": "35461b45",
   "metadata": {},
   "outputs": [
    {
     "data": {
      "text/plain": [
       "[0, 0, 0, 0, 1, 1, 0, 0, 0, 0, 0]"
      ]
     },
     "execution_count": 27,
     "metadata": {},
     "output_type": "execute_result"
    }
   ],
   "source": [
    "vect_2"
   ]
  },
  {
   "cell_type": "code",
   "execution_count": 29,
   "id": "65e4e44c",
   "metadata": {},
   "outputs": [],
   "source": [
    "vect_3 = vectorize_sentence(phrase_3,tokens)"
   ]
  },
  {
   "cell_type": "code",
   "execution_count": 30,
   "id": "f5019eda",
   "metadata": {},
   "outputs": [
    {
     "data": {
      "text/plain": [
       "[0, 0, 0, 0, 0, 0, 1, 1, 1, 1, 1]"
      ]
     },
     "execution_count": 30,
     "metadata": {},
     "output_type": "execute_result"
    }
   ],
   "source": [
    "vect_3"
   ]
  },
  {
   "cell_type": "code",
   "execution_count": 31,
   "id": "4bd3e7d1",
   "metadata": {},
   "outputs": [
    {
     "data": {
      "text/plain": [
       "11"
      ]
     },
     "execution_count": 31,
     "metadata": {},
     "output_type": "execute_result"
    }
   ],
   "source": [
    "len(tokens)"
   ]
  },
  {
   "cell_type": "code",
   "execution_count": 34,
   "id": "e07f049e",
   "metadata": {},
   "outputs": [],
   "source": [
    "data = pd.DataFrame([vect_1, vect_2, vect_3], columns=tokens, index = [\"phrase_1\",\"phrase_2\", \"phrase_3\"])"
   ]
  },
  {
   "cell_type": "code",
   "execution_count": 35,
   "id": "31cb6422",
   "metadata": {},
   "outputs": [
    {
     "data": {
      "text/html": [
       "<div>\n",
       "<style scoped>\n",
       "    .dataframe tbody tr th:only-of-type {\n",
       "        vertical-align: middle;\n",
       "    }\n",
       "\n",
       "    .dataframe tbody tr th {\n",
       "        vertical-align: top;\n",
       "    }\n",
       "\n",
       "    .dataframe thead th {\n",
       "        text-align: right;\n",
       "    }\n",
       "</style>\n",
       "<table border=\"1\" class=\"dataframe\">\n",
       "  <thead>\n",
       "    <tr style=\"text-align: right;\">\n",
       "      <th></th>\n",
       "      <th>consolas</th>\n",
       "      <th>Hodonou,</th>\n",
       "      <th>agronome</th>\n",
       "      <th>formation</th>\n",
       "      <th>étudiante</th>\n",
       "      <th>biostatistiques</th>\n",
       "      <th>passionnée</th>\n",
       "      <th>d'intelligence</th>\n",
       "      <th>artificielle</th>\n",
       "      <th>big</th>\n",
       "      <th>data.</th>\n",
       "    </tr>\n",
       "  </thead>\n",
       "  <tbody>\n",
       "    <tr>\n",
       "      <th>phrase_1</th>\n",
       "      <td>1</td>\n",
       "      <td>1</td>\n",
       "      <td>1</td>\n",
       "      <td>1</td>\n",
       "      <td>0</td>\n",
       "      <td>0</td>\n",
       "      <td>0</td>\n",
       "      <td>0</td>\n",
       "      <td>0</td>\n",
       "      <td>0</td>\n",
       "      <td>0</td>\n",
       "    </tr>\n",
       "    <tr>\n",
       "      <th>phrase_2</th>\n",
       "      <td>0</td>\n",
       "      <td>0</td>\n",
       "      <td>0</td>\n",
       "      <td>0</td>\n",
       "      <td>1</td>\n",
       "      <td>1</td>\n",
       "      <td>0</td>\n",
       "      <td>0</td>\n",
       "      <td>0</td>\n",
       "      <td>0</td>\n",
       "      <td>0</td>\n",
       "    </tr>\n",
       "    <tr>\n",
       "      <th>phrase_3</th>\n",
       "      <td>0</td>\n",
       "      <td>0</td>\n",
       "      <td>0</td>\n",
       "      <td>0</td>\n",
       "      <td>0</td>\n",
       "      <td>0</td>\n",
       "      <td>1</td>\n",
       "      <td>1</td>\n",
       "      <td>1</td>\n",
       "      <td>1</td>\n",
       "      <td>1</td>\n",
       "    </tr>\n",
       "  </tbody>\n",
       "</table>\n",
       "</div>"
      ],
      "text/plain": [
       "          consolas  Hodonou,  agronome  formation  étudiante  biostatistiques  \\\n",
       "phrase_1         1         1         1          1          0                0   \n",
       "phrase_2         0         0         0          0          1                1   \n",
       "phrase_3         0         0         0          0          0                0   \n",
       "\n",
       "          passionnée  d'intelligence  artificielle  big  data.  \n",
       "phrase_1           0               0             0    0      0  \n",
       "phrase_2           0               0             0    0      0  \n",
       "phrase_3           1               1             1    1      1  "
      ]
     },
     "execution_count": 35,
     "metadata": {},
     "output_type": "execute_result"
    }
   ],
   "source": [
    "data"
   ]
  },
  {
   "cell_type": "markdown",
   "id": "16e5627c",
   "metadata": {},
   "source": [
    "## Fréquence relative de chaque mot (Term frequency)"
   ]
  },
  {
   "cell_type": "markdown",
   "id": "1a3373f8",
   "metadata": {},
   "source": [
    " ***Petite parenthèse***\n",
    " \n",
    "idf(\"consolas\") = 3 car idf = nombre total de documents/nombre de fois où l'élément apparaît \n",
    "\n",
    "Ici une phrase constitue un document"
   ]
  },
  {
   "cell_type": "code",
   "execution_count": 36,
   "id": "8e65dcbe",
   "metadata": {},
   "outputs": [
    {
     "data": {
      "text/plain": [
       "True"
      ]
     },
     "execution_count": 36,
     "metadata": {},
     "output_type": "execute_result"
    }
   ],
   "source": [
    "\"consolas\" in phrase_1"
   ]
  },
  {
   "cell_type": "code",
   "execution_count": 37,
   "id": "2a1ba579",
   "metadata": {},
   "outputs": [
    {
     "data": {
      "text/plain": [
       "1"
      ]
     },
     "execution_count": 37,
     "metadata": {},
     "output_type": "execute_result"
    }
   ],
   "source": [
    "int(\"consolas\" in phrase_1)"
   ]
  },
  {
   "cell_type": "code",
   "execution_count": 38,
   "id": "4a8c0de0",
   "metadata": {},
   "outputs": [
    {
     "data": {
      "text/plain": [
       "False"
      ]
     },
     "execution_count": 38,
     "metadata": {},
     "output_type": "execute_result"
    }
   ],
   "source": [
    "\"consolas\" in phrase_1 + \"consolas\" in phrase_2 + \"consolas\" in phrase_3"
   ]
  },
  {
   "cell_type": "code",
   "execution_count": 39,
   "id": "6857f88a",
   "metadata": {},
   "outputs": [
    {
     "data": {
      "text/plain": [
       "1"
      ]
     },
     "execution_count": 39,
     "metadata": {},
     "output_type": "execute_result"
    }
   ],
   "source": [
    "(\"consolas\" in phrase_1) + (\"consolas\" in phrase_2) + (\"consolas\" in phrase_3)"
   ]
  },
  {
   "cell_type": "code",
   "execution_count": 40,
   "id": "235f000e",
   "metadata": {},
   "outputs": [],
   "source": [
    "idf = [((elt in phrase_1) + (elt in phrase_2) + (elt in phrase_3))/3 for elt in tokens] #Nbre total de phrases =3"
   ]
  },
  {
   "cell_type": "code",
   "execution_count": 41,
   "id": "18cedb49",
   "metadata": {},
   "outputs": [
    {
     "data": {
      "text/plain": [
       "[0.3333333333333333,\n",
       " 0.3333333333333333,\n",
       " 0.3333333333333333,\n",
       " 0.3333333333333333,\n",
       " 0.3333333333333333,\n",
       " 0.3333333333333333,\n",
       " 0.3333333333333333,\n",
       " 0.3333333333333333,\n",
       " 0.3333333333333333,\n",
       " 0.3333333333333333,\n",
       " 0.3333333333333333]"
      ]
     },
     "execution_count": 41,
     "metadata": {},
     "output_type": "execute_result"
    }
   ],
   "source": [
    "idf"
   ]
  },
  {
   "cell_type": "code",
   "execution_count": 42,
   "id": "d9370944",
   "metadata": {},
   "outputs": [],
   "source": [
    "idf = pd.DataFrame([idf], columns= tokens, index = [\"idf\"])"
   ]
  },
  {
   "cell_type": "code",
   "execution_count": 43,
   "id": "74a38b38",
   "metadata": {},
   "outputs": [
    {
     "data": {
      "text/html": [
       "<div>\n",
       "<style scoped>\n",
       "    .dataframe tbody tr th:only-of-type {\n",
       "        vertical-align: middle;\n",
       "    }\n",
       "\n",
       "    .dataframe tbody tr th {\n",
       "        vertical-align: top;\n",
       "    }\n",
       "\n",
       "    .dataframe thead th {\n",
       "        text-align: right;\n",
       "    }\n",
       "</style>\n",
       "<table border=\"1\" class=\"dataframe\">\n",
       "  <thead>\n",
       "    <tr style=\"text-align: right;\">\n",
       "      <th></th>\n",
       "      <th>consolas</th>\n",
       "      <th>Hodonou,</th>\n",
       "      <th>agronome</th>\n",
       "      <th>formation</th>\n",
       "      <th>étudiante</th>\n",
       "      <th>biostatistiques</th>\n",
       "      <th>passionnée</th>\n",
       "      <th>d'intelligence</th>\n",
       "      <th>artificielle</th>\n",
       "      <th>big</th>\n",
       "      <th>data.</th>\n",
       "    </tr>\n",
       "  </thead>\n",
       "  <tbody>\n",
       "    <tr>\n",
       "      <th>idf</th>\n",
       "      <td>0.333333</td>\n",
       "      <td>0.333333</td>\n",
       "      <td>0.333333</td>\n",
       "      <td>0.333333</td>\n",
       "      <td>0.333333</td>\n",
       "      <td>0.333333</td>\n",
       "      <td>0.333333</td>\n",
       "      <td>0.333333</td>\n",
       "      <td>0.333333</td>\n",
       "      <td>0.333333</td>\n",
       "      <td>0.333333</td>\n",
       "    </tr>\n",
       "  </tbody>\n",
       "</table>\n",
       "</div>"
      ],
      "text/plain": [
       "     consolas  Hodonou,  agronome  formation  étudiante  biostatistiques  \\\n",
       "idf  0.333333  0.333333  0.333333   0.333333   0.333333         0.333333   \n",
       "\n",
       "     passionnée  d'intelligence  artificielle       big     data.  \n",
       "idf    0.333333        0.333333      0.333333  0.333333  0.333333  "
      ]
     },
     "execution_count": 43,
     "metadata": {},
     "output_type": "execute_result"
    }
   ],
   "source": [
    "idf"
   ]
  },
  {
   "cell_type": "code",
   "execution_count": 44,
   "id": "4c78ad3e",
   "metadata": {},
   "outputs": [],
   "source": [
    "tf = [phrase_1.split().count(elt) + phrase_2.split().count(elt) + phrase_3.split().count(elt) for elt in tokens]"
   ]
  },
  {
   "cell_type": "code",
   "execution_count": 45,
   "id": "31309635",
   "metadata": {},
   "outputs": [
    {
     "data": {
      "text/plain": [
       "[1, 1, 1, 1, 1, 1, 1, 1, 1, 1, 1]"
      ]
     },
     "execution_count": 45,
     "metadata": {},
     "output_type": "execute_result"
    }
   ],
   "source": [
    "tf"
   ]
  },
  {
   "cell_type": "code",
   "execution_count": 46,
   "id": "f7a36ada",
   "metadata": {},
   "outputs": [],
   "source": [
    "tf = pd.DataFrame([tf], columns=tokens, index =[\"tf\"])"
   ]
  },
  {
   "cell_type": "code",
   "execution_count": 47,
   "id": "c295aaba",
   "metadata": {},
   "outputs": [
    {
     "data": {
      "text/html": [
       "<div>\n",
       "<style scoped>\n",
       "    .dataframe tbody tr th:only-of-type {\n",
       "        vertical-align: middle;\n",
       "    }\n",
       "\n",
       "    .dataframe tbody tr th {\n",
       "        vertical-align: top;\n",
       "    }\n",
       "\n",
       "    .dataframe thead th {\n",
       "        text-align: right;\n",
       "    }\n",
       "</style>\n",
       "<table border=\"1\" class=\"dataframe\">\n",
       "  <thead>\n",
       "    <tr style=\"text-align: right;\">\n",
       "      <th></th>\n",
       "      <th>consolas</th>\n",
       "      <th>Hodonou,</th>\n",
       "      <th>agronome</th>\n",
       "      <th>formation</th>\n",
       "      <th>étudiante</th>\n",
       "      <th>biostatistiques</th>\n",
       "      <th>passionnée</th>\n",
       "      <th>d'intelligence</th>\n",
       "      <th>artificielle</th>\n",
       "      <th>big</th>\n",
       "      <th>data.</th>\n",
       "    </tr>\n",
       "  </thead>\n",
       "  <tbody>\n",
       "    <tr>\n",
       "      <th>tf</th>\n",
       "      <td>1</td>\n",
       "      <td>1</td>\n",
       "      <td>1</td>\n",
       "      <td>1</td>\n",
       "      <td>1</td>\n",
       "      <td>1</td>\n",
       "      <td>1</td>\n",
       "      <td>1</td>\n",
       "      <td>1</td>\n",
       "      <td>1</td>\n",
       "      <td>1</td>\n",
       "    </tr>\n",
       "  </tbody>\n",
       "</table>\n",
       "</div>"
      ],
      "text/plain": [
       "    consolas  Hodonou,  agronome  formation  étudiante  biostatistiques  \\\n",
       "tf         1         1         1          1          1                1   \n",
       "\n",
       "    passionnée  d'intelligence  artificielle  big  data.  \n",
       "tf           1               1             1    1      1  "
      ]
     },
     "execution_count": 47,
     "metadata": {},
     "output_type": "execute_result"
    }
   ],
   "source": [
    "tf"
   ]
  },
  {
   "cell_type": "code",
   "execution_count": 52,
   "id": "87383b29",
   "metadata": {},
   "outputs": [],
   "source": [
    "score = pd.concat([tf,idf])"
   ]
  },
  {
   "cell_type": "code",
   "execution_count": 53,
   "id": "3c991f42",
   "metadata": {},
   "outputs": [
    {
     "data": {
      "text/html": [
       "<div>\n",
       "<style scoped>\n",
       "    .dataframe tbody tr th:only-of-type {\n",
       "        vertical-align: middle;\n",
       "    }\n",
       "\n",
       "    .dataframe tbody tr th {\n",
       "        vertical-align: top;\n",
       "    }\n",
       "\n",
       "    .dataframe thead th {\n",
       "        text-align: right;\n",
       "    }\n",
       "</style>\n",
       "<table border=\"1\" class=\"dataframe\">\n",
       "  <thead>\n",
       "    <tr style=\"text-align: right;\">\n",
       "      <th></th>\n",
       "      <th>consolas</th>\n",
       "      <th>Hodonou,</th>\n",
       "      <th>agronome</th>\n",
       "      <th>formation</th>\n",
       "      <th>étudiante</th>\n",
       "      <th>biostatistiques</th>\n",
       "      <th>passionnée</th>\n",
       "      <th>d'intelligence</th>\n",
       "      <th>artificielle</th>\n",
       "      <th>big</th>\n",
       "      <th>data.</th>\n",
       "    </tr>\n",
       "  </thead>\n",
       "  <tbody>\n",
       "    <tr>\n",
       "      <th>tf</th>\n",
       "      <td>1.000000</td>\n",
       "      <td>1.000000</td>\n",
       "      <td>1.000000</td>\n",
       "      <td>1.000000</td>\n",
       "      <td>1.000000</td>\n",
       "      <td>1.000000</td>\n",
       "      <td>1.000000</td>\n",
       "      <td>1.000000</td>\n",
       "      <td>1.000000</td>\n",
       "      <td>1.000000</td>\n",
       "      <td>1.000000</td>\n",
       "    </tr>\n",
       "    <tr>\n",
       "      <th>idf</th>\n",
       "      <td>0.333333</td>\n",
       "      <td>0.333333</td>\n",
       "      <td>0.333333</td>\n",
       "      <td>0.333333</td>\n",
       "      <td>0.333333</td>\n",
       "      <td>0.333333</td>\n",
       "      <td>0.333333</td>\n",
       "      <td>0.333333</td>\n",
       "      <td>0.333333</td>\n",
       "      <td>0.333333</td>\n",
       "      <td>0.333333</td>\n",
       "    </tr>\n",
       "  </tbody>\n",
       "</table>\n",
       "</div>"
      ],
      "text/plain": [
       "     consolas  Hodonou,  agronome  formation  étudiante  biostatistiques  \\\n",
       "tf   1.000000  1.000000  1.000000   1.000000   1.000000         1.000000   \n",
       "idf  0.333333  0.333333  0.333333   0.333333   0.333333         0.333333   \n",
       "\n",
       "     passionnée  d'intelligence  artificielle       big     data.  \n",
       "tf     1.000000        1.000000      1.000000  1.000000  1.000000  \n",
       "idf    0.333333        0.333333      0.333333  0.333333  0.333333  "
      ]
     },
     "execution_count": 53,
     "metadata": {},
     "output_type": "execute_result"
    }
   ],
   "source": [
    "score"
   ]
  },
  {
   "cell_type": "code",
   "execution_count": 81,
   "id": "f60aa79d",
   "metadata": {},
   "outputs": [],
   "source": [
    "f = lambda x: x[0]+x[1]"
   ]
  },
  {
   "cell_type": "code",
   "execution_count": 82,
   "id": "00848b68",
   "metadata": {},
   "outputs": [],
   "source": [
    "tf_idf =score.apply(f, axis =0)"
   ]
  },
  {
   "cell_type": "code",
   "execution_count": 83,
   "id": "5981b985",
   "metadata": {},
   "outputs": [
    {
     "data": {
      "text/plain": [
       "consolas           1.333333\n",
       "Hodonou,           1.333333\n",
       "agronome           1.333333\n",
       "formation          1.333333\n",
       "étudiante          1.333333\n",
       "biostatistiques    1.333333\n",
       "passionnée         1.333333\n",
       "d'intelligence     1.333333\n",
       "artificielle       1.333333\n",
       "big                1.333333\n",
       "data.              1.333333\n",
       "dtype: float64"
      ]
     },
     "execution_count": 83,
     "metadata": {},
     "output_type": "execute_result"
    }
   ],
   "source": [
    "tf_idf"
   ]
  },
  {
   "cell_type": "code",
   "execution_count": 84,
   "id": "344ea128",
   "metadata": {},
   "outputs": [],
   "source": [
    "tf_idf = pd.DataFrame(tf_idf, columns=[\"tf-idf\"])"
   ]
  },
  {
   "cell_type": "code",
   "execution_count": 85,
   "id": "2bc812e2",
   "metadata": {},
   "outputs": [
    {
     "data": {
      "text/html": [
       "<div>\n",
       "<style scoped>\n",
       "    .dataframe tbody tr th:only-of-type {\n",
       "        vertical-align: middle;\n",
       "    }\n",
       "\n",
       "    .dataframe tbody tr th {\n",
       "        vertical-align: top;\n",
       "    }\n",
       "\n",
       "    .dataframe thead th {\n",
       "        text-align: right;\n",
       "    }\n",
       "</style>\n",
       "<table border=\"1\" class=\"dataframe\">\n",
       "  <thead>\n",
       "    <tr style=\"text-align: right;\">\n",
       "      <th></th>\n",
       "      <th>tf-idf</th>\n",
       "    </tr>\n",
       "  </thead>\n",
       "  <tbody>\n",
       "    <tr>\n",
       "      <th>consolas</th>\n",
       "      <td>1.333333</td>\n",
       "    </tr>\n",
       "    <tr>\n",
       "      <th>Hodonou,</th>\n",
       "      <td>1.333333</td>\n",
       "    </tr>\n",
       "    <tr>\n",
       "      <th>agronome</th>\n",
       "      <td>1.333333</td>\n",
       "    </tr>\n",
       "    <tr>\n",
       "      <th>formation</th>\n",
       "      <td>1.333333</td>\n",
       "    </tr>\n",
       "    <tr>\n",
       "      <th>étudiante</th>\n",
       "      <td>1.333333</td>\n",
       "    </tr>\n",
       "    <tr>\n",
       "      <th>biostatistiques</th>\n",
       "      <td>1.333333</td>\n",
       "    </tr>\n",
       "    <tr>\n",
       "      <th>passionnée</th>\n",
       "      <td>1.333333</td>\n",
       "    </tr>\n",
       "    <tr>\n",
       "      <th>d'intelligence</th>\n",
       "      <td>1.333333</td>\n",
       "    </tr>\n",
       "    <tr>\n",
       "      <th>artificielle</th>\n",
       "      <td>1.333333</td>\n",
       "    </tr>\n",
       "    <tr>\n",
       "      <th>big</th>\n",
       "      <td>1.333333</td>\n",
       "    </tr>\n",
       "    <tr>\n",
       "      <th>data.</th>\n",
       "      <td>1.333333</td>\n",
       "    </tr>\n",
       "  </tbody>\n",
       "</table>\n",
       "</div>"
      ],
      "text/plain": [
       "                   tf-idf\n",
       "consolas         1.333333\n",
       "Hodonou,         1.333333\n",
       "agronome         1.333333\n",
       "formation        1.333333\n",
       "étudiante        1.333333\n",
       "biostatistiques  1.333333\n",
       "passionnée       1.333333\n",
       "d'intelligence   1.333333\n",
       "artificielle     1.333333\n",
       "big              1.333333\n",
       "data.            1.333333"
      ]
     },
     "execution_count": 85,
     "metadata": {},
     "output_type": "execute_result"
    }
   ],
   "source": [
    "tf_idf"
   ]
  },
  {
   "cell_type": "code",
   "execution_count": 86,
   "id": "b26770af",
   "metadata": {},
   "outputs": [],
   "source": [
    "tf_idf_score = pd.concat([score, tf_idf.T])"
   ]
  },
  {
   "cell_type": "code",
   "execution_count": 87,
   "id": "dfa26fcc",
   "metadata": {},
   "outputs": [
    {
     "data": {
      "text/html": [
       "<div>\n",
       "<style scoped>\n",
       "    .dataframe tbody tr th:only-of-type {\n",
       "        vertical-align: middle;\n",
       "    }\n",
       "\n",
       "    .dataframe tbody tr th {\n",
       "        vertical-align: top;\n",
       "    }\n",
       "\n",
       "    .dataframe thead th {\n",
       "        text-align: right;\n",
       "    }\n",
       "</style>\n",
       "<table border=\"1\" class=\"dataframe\">\n",
       "  <thead>\n",
       "    <tr style=\"text-align: right;\">\n",
       "      <th></th>\n",
       "      <th>consolas</th>\n",
       "      <th>Hodonou,</th>\n",
       "      <th>agronome</th>\n",
       "      <th>formation</th>\n",
       "      <th>étudiante</th>\n",
       "      <th>biostatistiques</th>\n",
       "      <th>passionnée</th>\n",
       "      <th>d'intelligence</th>\n",
       "      <th>artificielle</th>\n",
       "      <th>big</th>\n",
       "      <th>data.</th>\n",
       "    </tr>\n",
       "  </thead>\n",
       "  <tbody>\n",
       "    <tr>\n",
       "      <th>tf</th>\n",
       "      <td>1.000000</td>\n",
       "      <td>1.000000</td>\n",
       "      <td>1.000000</td>\n",
       "      <td>1.000000</td>\n",
       "      <td>1.000000</td>\n",
       "      <td>1.000000</td>\n",
       "      <td>1.000000</td>\n",
       "      <td>1.000000</td>\n",
       "      <td>1.000000</td>\n",
       "      <td>1.000000</td>\n",
       "      <td>1.000000</td>\n",
       "    </tr>\n",
       "    <tr>\n",
       "      <th>idf</th>\n",
       "      <td>0.333333</td>\n",
       "      <td>0.333333</td>\n",
       "      <td>0.333333</td>\n",
       "      <td>0.333333</td>\n",
       "      <td>0.333333</td>\n",
       "      <td>0.333333</td>\n",
       "      <td>0.333333</td>\n",
       "      <td>0.333333</td>\n",
       "      <td>0.333333</td>\n",
       "      <td>0.333333</td>\n",
       "      <td>0.333333</td>\n",
       "    </tr>\n",
       "    <tr>\n",
       "      <th>tf-idf</th>\n",
       "      <td>1.333333</td>\n",
       "      <td>1.333333</td>\n",
       "      <td>1.333333</td>\n",
       "      <td>1.333333</td>\n",
       "      <td>1.333333</td>\n",
       "      <td>1.333333</td>\n",
       "      <td>1.333333</td>\n",
       "      <td>1.333333</td>\n",
       "      <td>1.333333</td>\n",
       "      <td>1.333333</td>\n",
       "      <td>1.333333</td>\n",
       "    </tr>\n",
       "  </tbody>\n",
       "</table>\n",
       "</div>"
      ],
      "text/plain": [
       "        consolas  Hodonou,  agronome  formation  étudiante  biostatistiques  \\\n",
       "tf      1.000000  1.000000  1.000000   1.000000   1.000000         1.000000   \n",
       "idf     0.333333  0.333333  0.333333   0.333333   0.333333         0.333333   \n",
       "tf-idf  1.333333  1.333333  1.333333   1.333333   1.333333         1.333333   \n",
       "\n",
       "        passionnée  d'intelligence  artificielle       big     data.  \n",
       "tf        1.000000        1.000000      1.000000  1.000000  1.000000  \n",
       "idf       0.333333        0.333333      0.333333  0.333333  0.333333  \n",
       "tf-idf    1.333333        1.333333      1.333333  1.333333  1.333333  "
      ]
     },
     "execution_count": 87,
     "metadata": {},
     "output_type": "execute_result"
    }
   ],
   "source": [
    "tf_idf_score"
   ]
  },
  {
   "cell_type": "code",
   "execution_count": 91,
   "id": "b9a5eb0b",
   "metadata": {},
   "outputs": [],
   "source": [
    "# wordcloud = WordCloud(font_path=\"C:/Users/HD/Downloads/brooklyn-heritage/Brooklyn Heritage/BrooklynHeritageSans/BH-RegularIt.otf\").generate(''.join(tokens))\n",
    "# plt.imshow(wordcloud)\n",
    "# plt.show()"
   ]
  },
  {
   "cell_type": "markdown",
   "id": "258250ff",
   "metadata": {},
   "source": [
    "#Produit_scalaire(u,v)\n",
    "\n",
    "u.v=||u||.||v||.cos(u,v)\n",
    "\n",
    "cos(u,v) = u.v/||u||.||v||"
   ]
  },
  {
   "cell_type": "code",
   "execution_count": 110,
   "id": "972d4e5c",
   "metadata": {},
   "outputs": [],
   "source": [
    "def cosinus(u,v):\n",
    "    u_norm = np.linalg.norm(u)\n",
    "    v_norm =np.linalg.norm(v)\n",
    "    u_scalaire_v =np.dot(u,v)\n",
    "    return np.dot(u,v)/(np.linalg.norm(u)*np.linalg.norm(v))"
   ]
  },
  {
   "cell_type": "code",
   "execution_count": 107,
   "id": "55cff939",
   "metadata": {},
   "outputs": [],
   "source": [
    "arr1 = np.array([1,3,2])\n",
    "arr2 = np.array([-5,0,1])"
   ]
  },
  {
   "cell_type": "code",
   "execution_count": 95,
   "id": "88eb9665",
   "metadata": {},
   "outputs": [
    {
     "data": {
      "text/plain": [
       "-3"
      ]
     },
     "execution_count": 95,
     "metadata": {},
     "output_type": "execute_result"
    }
   ],
   "source": [
    "np.dot(arr1,arr2)"
   ]
  },
  {
   "cell_type": "code",
   "execution_count": 111,
   "id": "56d3f596",
   "metadata": {},
   "outputs": [
    {
     "data": {
      "text/plain": [
       "-0.15724272550828775"
      ]
     },
     "execution_count": 111,
     "metadata": {},
     "output_type": "execute_result"
    }
   ],
   "source": [
    "cosinus(arr1, arr2)"
   ]
  },
  {
   "cell_type": "code",
   "execution_count": 102,
   "id": "7dc9e54f",
   "metadata": {},
   "outputs": [],
   "source": [
    "def scalaire(u,v):\n",
    "    return sum([elt1*elt2 for elt1,elt2 in zip(u,v)])\n",
    "\n",
    "def get_norm(u):\n",
    "    return math.sqrt(sum([elt**2 for elt in u]))"
   ]
  },
  {
   "cell_type": "code",
   "execution_count": 97,
   "id": "ce889aad",
   "metadata": {},
   "outputs": [
    {
     "data": {
      "text/plain": [
       "-3"
      ]
     },
     "execution_count": 97,
     "metadata": {},
     "output_type": "execute_result"
    }
   ],
   "source": [
    "scalaire(arr1,arr2)"
   ]
  },
  {
   "cell_type": "code",
   "execution_count": 98,
   "id": "31b15a6f",
   "metadata": {},
   "outputs": [
    {
     "data": {
      "text/plain": [
       "3.7416573867739413"
      ]
     },
     "execution_count": 98,
     "metadata": {},
     "output_type": "execute_result"
    }
   ],
   "source": [
    "np.linalg.norm(arr1)"
   ]
  },
  {
   "cell_type": "code",
   "execution_count": 99,
   "id": "68fcd6f6",
   "metadata": {},
   "outputs": [
    {
     "data": {
      "text/plain": [
       "3.7416573867739413"
      ]
     },
     "execution_count": 99,
     "metadata": {},
     "output_type": "execute_result"
    }
   ],
   "source": [
    "np.sqrt(14)"
   ]
  },
  {
   "cell_type": "code",
   "execution_count": 103,
   "id": "9a12f0df",
   "metadata": {},
   "outputs": [
    {
     "data": {
      "text/plain": [
       "3.7416573867739413"
      ]
     },
     "execution_count": 103,
     "metadata": {},
     "output_type": "execute_result"
    }
   ],
   "source": [
    "get_norm(arr1)"
   ]
  },
  {
   "cell_type": "code",
   "execution_count": 112,
   "id": "3f9ab7a4",
   "metadata": {},
   "outputs": [
    {
     "data": {
      "text/plain": [
       "0.0"
      ]
     },
     "execution_count": 112,
     "metadata": {},
     "output_type": "execute_result"
    }
   ],
   "source": [
    "cosinus(vect_1, vect_2)"
   ]
  },
  {
   "cell_type": "markdown",
   "id": "c3b054ad",
   "metadata": {},
   "source": [
    "### Note\n",
    "-Cette technique de nlp permet de comprendre le thème d'un texte donné sur la base du Wordcloud sans forcément le lire. \n",
    "\n",
    "-Elle permet également de détecter le sentiment sur la base des mots fréquents présents dans le corpus.\n",
    "\n",
    "-Permet d'attribuer par la suite, chaque mot à une classe donnée pour faire des recherches avancées après."
   ]
  },
  {
   "cell_type": "code",
   "execution_count": null,
   "id": "4c55ba08",
   "metadata": {},
   "outputs": [],
   "source": []
  },
  {
   "cell_type": "code",
   "execution_count": null,
   "id": "597a31a3",
   "metadata": {},
   "outputs": [],
   "source": []
  },
  {
   "cell_type": "code",
   "execution_count": null,
   "id": "25486dbf",
   "metadata": {},
   "outputs": [],
   "source": []
  }
 ],
 "metadata": {
  "kernelspec": {
   "display_name": "Python 3 (ipykernel)",
   "language": "python",
   "name": "python3"
  },
  "language_info": {
   "codemirror_mode": {
    "name": "ipython",
    "version": 3
   },
   "file_extension": ".py",
   "mimetype": "text/x-python",
   "name": "python",
   "nbconvert_exporter": "python",
   "pygments_lexer": "ipython3",
   "version": "3.11.5"
  }
 },
 "nbformat": 4,
 "nbformat_minor": 5
}
