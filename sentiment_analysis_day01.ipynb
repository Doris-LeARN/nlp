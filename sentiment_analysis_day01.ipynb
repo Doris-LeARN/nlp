{
 "cells": [
  {
   "cell_type": "code",
   "execution_count": 71,
   "id": "bd770372",
   "metadata": {
    "code_folding": []
   },
   "outputs": [
    {
     "name": "stderr",
     "output_type": "stream",
     "text": [
      "[nltk_data] Downloading package stopwords to\n",
      "[nltk_data]     C:\\Users\\ADMIN\\AppData\\Roaming\\nltk_data...\n",
      "[nltk_data]   Package stopwords is already up-to-date!\n",
      "[nltk_data] Downloading package vader_lexicon to\n",
      "[nltk_data]     C:\\Users\\ADMIN\\AppData\\Roaming\\nltk_data...\n",
      "[nltk_data]   Package vader_lexicon is already up-to-date!\n"
     ]
    },
    {
     "data": {
      "text/plain": [
       "True"
      ]
     },
     "execution_count": 71,
     "metadata": {},
     "output_type": "execute_result"
    }
   ],
   "source": [
    "# Importer les bibliothèques\n",
    "import pandas as pd\n",
    "import numpy as np\n",
    "from nltk import re\n",
    "import nltk\n",
    "from nltk.stem import WordNetLemmatizer\n",
    "from nltk.tokenize import word_tokenize\n",
    "from nltk.corpus import stopwords\n",
    "from nltk.sentiment.vader import SentimentIntensityAnalyzer\n",
    "from sklearn.metrics import confusion_matrix , classification_report\n",
    "from textblob import TextBlob\n",
    "\n",
    "nltk.download(\"stopwords\")\n",
    "nltk.download('vader_lexicon')"
   ]
  },
  {
   "cell_type": "code",
   "execution_count": 59,
   "id": "3b0aba50",
   "metadata": {
    "code_folding": []
   },
   "outputs": [],
   "source": [
    "# Importer les données\n",
    "data = pd.read_csv(\"https://raw.githubusercontent.com/pycaret/pycaret/master/datasets/amazon.csv\")"
   ]
  },
  {
   "cell_type": "code",
   "execution_count": 60,
   "id": "8b1daf18",
   "metadata": {
    "code_folding": []
   },
   "outputs": [
    {
     "data": {
      "text/html": [
       "<div>\n",
       "<style scoped>\n",
       "    .dataframe tbody tr th:only-of-type {\n",
       "        vertical-align: middle;\n",
       "    }\n",
       "\n",
       "    .dataframe tbody tr th {\n",
       "        vertical-align: top;\n",
       "    }\n",
       "\n",
       "    .dataframe thead th {\n",
       "        text-align: right;\n",
       "    }\n",
       "</style>\n",
       "<table border=\"1\" class=\"dataframe\">\n",
       "  <thead>\n",
       "    <tr style=\"text-align: right;\">\n",
       "      <th></th>\n",
       "      <th>reviewText</th>\n",
       "      <th>Positive</th>\n",
       "    </tr>\n",
       "  </thead>\n",
       "  <tbody>\n",
       "    <tr>\n",
       "      <th>0</th>\n",
       "      <td>This is a one of the best apps acording to a b...</td>\n",
       "      <td>1</td>\n",
       "    </tr>\n",
       "    <tr>\n",
       "      <th>1</th>\n",
       "      <td>This is a pretty good version of the game for ...</td>\n",
       "      <td>1</td>\n",
       "    </tr>\n",
       "    <tr>\n",
       "      <th>2</th>\n",
       "      <td>this is a really cool game. there are a bunch ...</td>\n",
       "      <td>1</td>\n",
       "    </tr>\n",
       "    <tr>\n",
       "      <th>3</th>\n",
       "      <td>This is a silly game and can be frustrating, b...</td>\n",
       "      <td>1</td>\n",
       "    </tr>\n",
       "    <tr>\n",
       "      <th>4</th>\n",
       "      <td>This is a terrific game on any pad. Hrs of fun...</td>\n",
       "      <td>1</td>\n",
       "    </tr>\n",
       "  </tbody>\n",
       "</table>\n",
       "</div>"
      ],
      "text/plain": [
       "                                          reviewText  Positive\n",
       "0  This is a one of the best apps acording to a b...         1\n",
       "1  This is a pretty good version of the game for ...         1\n",
       "2  this is a really cool game. there are a bunch ...         1\n",
       "3  This is a silly game and can be frustrating, b...         1\n",
       "4  This is a terrific game on any pad. Hrs of fun...         1"
      ]
     },
     "execution_count": 60,
     "metadata": {},
     "output_type": "execute_result"
    }
   ],
   "source": [
    "# Afficher les premières lignes du dataframe\n",
    "data.head()"
   ]
  },
  {
   "cell_type": "code",
   "execution_count": 61,
   "id": "9c7cc375",
   "metadata": {
    "code_folding": []
   },
   "outputs": [],
   "source": [
    "# Prétraitement des textes\n",
    "def treatment_text(text):\n",
    "    # Ramener en minuscules\n",
    "    text = text.lower()\n",
    "    # Suppression des caractères spéciaux et de la ponctuation\n",
    "    text = re.sub(r\"[^\\w\\s]\", \"\", text)\n",
    "    # Tokéninastion\n",
    "    text = word_tokenize(text)\n",
    "    # Définir la liste des stop-words\n",
    "    stop_words = set(stopwords.words(\"english\"))\n",
    "    # Enlever les stop_words\n",
    "    text = [elt for elt in text if elt not in stop_words]\n",
    "    # Lématization\n",
    "    lemmatizer = WordNetLemmatizer()\n",
    "    text = [lemmatizer.lemmatize(elt) for elt in text]\n",
    "    # Ramener le texte à sa valeur normale\n",
    "    text = \" \".join(text)\n",
    "    return text"
   ]
  },
  {
   "cell_type": "code",
   "execution_count": 62,
   "id": "4782171f",
   "metadata": {},
   "outputs": [
    {
     "data": {
      "text/html": [
       "<div>\n",
       "<style scoped>\n",
       "    .dataframe tbody tr th:only-of-type {\n",
       "        vertical-align: middle;\n",
       "    }\n",
       "\n",
       "    .dataframe tbody tr th {\n",
       "        vertical-align: top;\n",
       "    }\n",
       "\n",
       "    .dataframe thead th {\n",
       "        text-align: right;\n",
       "    }\n",
       "</style>\n",
       "<table border=\"1\" class=\"dataframe\">\n",
       "  <thead>\n",
       "    <tr style=\"text-align: right;\">\n",
       "      <th></th>\n",
       "      <th>reviewText</th>\n",
       "      <th>Positive</th>\n",
       "      <th>reviewText_tokens</th>\n",
       "    </tr>\n",
       "  </thead>\n",
       "  <tbody>\n",
       "    <tr>\n",
       "      <th>0</th>\n",
       "      <td>This is a one of the best apps acording to a b...</td>\n",
       "      <td>1</td>\n",
       "      <td>one best apps acording bunch people agree bomb...</td>\n",
       "    </tr>\n",
       "    <tr>\n",
       "      <th>1</th>\n",
       "      <td>This is a pretty good version of the game for ...</td>\n",
       "      <td>1</td>\n",
       "      <td>pretty good version game free lot different le...</td>\n",
       "    </tr>\n",
       "    <tr>\n",
       "      <th>2</th>\n",
       "      <td>this is a really cool game. there are a bunch ...</td>\n",
       "      <td>1</td>\n",
       "      <td>really cool game bunch level find golden egg s...</td>\n",
       "    </tr>\n",
       "    <tr>\n",
       "      <th>3</th>\n",
       "      <td>This is a silly game and can be frustrating, b...</td>\n",
       "      <td>1</td>\n",
       "      <td>silly game frustrating lot fun definitely reco...</td>\n",
       "    </tr>\n",
       "    <tr>\n",
       "      <th>4</th>\n",
       "      <td>This is a terrific game on any pad. Hrs of fun...</td>\n",
       "      <td>1</td>\n",
       "      <td>terrific game pad hr fun grandkids love great ...</td>\n",
       "    </tr>\n",
       "    <tr>\n",
       "      <th>...</th>\n",
       "      <td>...</td>\n",
       "      <td>...</td>\n",
       "      <td>...</td>\n",
       "    </tr>\n",
       "    <tr>\n",
       "      <th>19995</th>\n",
       "      <td>this app is fricken stupid.it froze on the kin...</td>\n",
       "      <td>0</td>\n",
       "      <td>app fricken stupidit froze kindle wont allow p...</td>\n",
       "    </tr>\n",
       "    <tr>\n",
       "      <th>19996</th>\n",
       "      <td>Please add me!!!!! I need neighbors! Ginger101...</td>\n",
       "      <td>1</td>\n",
       "      <td>please add need neighbor ginger1016 thanks bun...</td>\n",
       "    </tr>\n",
       "    <tr>\n",
       "      <th>19997</th>\n",
       "      <td>love it!  this game. is awesome. wish it had m...</td>\n",
       "      <td>1</td>\n",
       "      <td>love game awesome wish free stuff house didnt ...</td>\n",
       "    </tr>\n",
       "    <tr>\n",
       "      <th>19998</th>\n",
       "      <td>I love love love this app on my side of fashio...</td>\n",
       "      <td>1</td>\n",
       "      <td>love love love app side fashion story fight wo...</td>\n",
       "    </tr>\n",
       "    <tr>\n",
       "      <th>19999</th>\n",
       "      <td>This game is a rip off. Here is a list of thin...</td>\n",
       "      <td>0</td>\n",
       "      <td>game rip list thing make betterbull first need...</td>\n",
       "    </tr>\n",
       "  </tbody>\n",
       "</table>\n",
       "<p>20000 rows × 3 columns</p>\n",
       "</div>"
      ],
      "text/plain": [
       "                                              reviewText  Positive  \\\n",
       "0      This is a one of the best apps acording to a b...         1   \n",
       "1      This is a pretty good version of the game for ...         1   \n",
       "2      this is a really cool game. there are a bunch ...         1   \n",
       "3      This is a silly game and can be frustrating, b...         1   \n",
       "4      This is a terrific game on any pad. Hrs of fun...         1   \n",
       "...                                                  ...       ...   \n",
       "19995  this app is fricken stupid.it froze on the kin...         0   \n",
       "19996  Please add me!!!!! I need neighbors! Ginger101...         1   \n",
       "19997  love it!  this game. is awesome. wish it had m...         1   \n",
       "19998  I love love love this app on my side of fashio...         1   \n",
       "19999  This game is a rip off. Here is a list of thin...         0   \n",
       "\n",
       "                                       reviewText_tokens  \n",
       "0      one best apps acording bunch people agree bomb...  \n",
       "1      pretty good version game free lot different le...  \n",
       "2      really cool game bunch level find golden egg s...  \n",
       "3      silly game frustrating lot fun definitely reco...  \n",
       "4      terrific game pad hr fun grandkids love great ...  \n",
       "...                                                  ...  \n",
       "19995  app fricken stupidit froze kindle wont allow p...  \n",
       "19996  please add need neighbor ginger1016 thanks bun...  \n",
       "19997  love game awesome wish free stuff house didnt ...  \n",
       "19998  love love love app side fashion story fight wo...  \n",
       "19999  game rip list thing make betterbull first need...  \n",
       "\n",
       "[20000 rows x 3 columns]"
      ]
     },
     "execution_count": 62,
     "metadata": {},
     "output_type": "execute_result"
    }
   ],
   "source": [
    "# Prétraitement du texte\n",
    "data[\"reviewText_tokens\"] = data[\"reviewText\"].apply(treatment_text)\n",
    "data"
   ]
  },
  {
   "cell_type": "code",
   "execution_count": 27,
   "id": "81338508",
   "metadata": {},
   "outputs": [],
   "source": [
    "analyzer = SentimentIntensityAnalyzer()"
   ]
  },
  {
   "cell_type": "code",
   "execution_count": 63,
   "id": "bbc45bfc",
   "metadata": {},
   "outputs": [],
   "source": [
    "def get_sentiment_with_nltk(text):\n",
    "    # Calculer la polarité du texte\n",
    "    score = analyzer.polarity_scores(text)\n",
    "    \n",
    "    return 1 if score[\"pos\"] > score[\"neg\"] else 0"
   ]
  },
  {
   "cell_type": "code",
   "execution_count": 78,
   "id": "9d4a6bca",
   "metadata": {},
   "outputs": [],
   "source": [
    "def get_sentiment_with_textblob(text):\n",
    "    # Calculer la polarité du texte\n",
    "    score = TextBlob(text).sentiment[0]\n",
    "    \n",
    "    return 1 if score >= 0 else 0"
   ]
  },
  {
   "cell_type": "code",
   "execution_count": 85,
   "id": "25d223ec",
   "metadata": {},
   "outputs": [
    {
     "data": {
      "text/plain": [
       "Sentiment(polarity=0.0, subjectivity=0.0)"
      ]
     },
     "execution_count": 85,
     "metadata": {},
     "output_type": "execute_result"
    }
   ],
   "source": [
    "TextBlob(\"Am pregnancy\").sentiment"
   ]
  },
  {
   "cell_type": "code",
   "execution_count": 37,
   "id": "6fbe5030",
   "metadata": {},
   "outputs": [
    {
     "data": {
      "text/plain": [
       "0"
      ]
     },
     "execution_count": 37,
     "metadata": {},
     "output_type": "execute_result"
    }
   ],
   "source": [
    "get_sentiment_with_nltk(\"Am sad\")"
   ]
  },
  {
   "cell_type": "code",
   "execution_count": 38,
   "id": "dec87555",
   "metadata": {},
   "outputs": [
    {
     "data": {
      "text/plain": [
       "0"
      ]
     },
     "execution_count": 38,
     "metadata": {},
     "output_type": "execute_result"
    }
   ],
   "source": [
    "get_sentiment_with_nltk(\"It's stupid. I just uselessly waste my time\")"
   ]
  },
  {
   "cell_type": "code",
   "execution_count": 65,
   "id": "abdaa401",
   "metadata": {},
   "outputs": [
    {
     "data": {
      "text/html": [
       "<div>\n",
       "<style scoped>\n",
       "    .dataframe tbody tr th:only-of-type {\n",
       "        vertical-align: middle;\n",
       "    }\n",
       "\n",
       "    .dataframe tbody tr th {\n",
       "        vertical-align: top;\n",
       "    }\n",
       "\n",
       "    .dataframe thead th {\n",
       "        text-align: right;\n",
       "    }\n",
       "</style>\n",
       "<table border=\"1\" class=\"dataframe\">\n",
       "  <thead>\n",
       "    <tr style=\"text-align: right;\">\n",
       "      <th></th>\n",
       "      <th>reviewText</th>\n",
       "      <th>Positive</th>\n",
       "      <th>reviewText_tokens</th>\n",
       "      <th>sentiment_with_nltk</th>\n",
       "    </tr>\n",
       "  </thead>\n",
       "  <tbody>\n",
       "    <tr>\n",
       "      <th>0</th>\n",
       "      <td>This is a one of the best apps acording to a b...</td>\n",
       "      <td>1</td>\n",
       "      <td>one best apps acording bunch people agree bomb...</td>\n",
       "      <td>1</td>\n",
       "    </tr>\n",
       "    <tr>\n",
       "      <th>1</th>\n",
       "      <td>This is a pretty good version of the game for ...</td>\n",
       "      <td>1</td>\n",
       "      <td>pretty good version game free lot different le...</td>\n",
       "      <td>1</td>\n",
       "    </tr>\n",
       "    <tr>\n",
       "      <th>2</th>\n",
       "      <td>this is a really cool game. there are a bunch ...</td>\n",
       "      <td>1</td>\n",
       "      <td>really cool game bunch level find golden egg s...</td>\n",
       "      <td>1</td>\n",
       "    </tr>\n",
       "    <tr>\n",
       "      <th>3</th>\n",
       "      <td>This is a silly game and can be frustrating, b...</td>\n",
       "      <td>1</td>\n",
       "      <td>silly game frustrating lot fun definitely reco...</td>\n",
       "      <td>1</td>\n",
       "    </tr>\n",
       "    <tr>\n",
       "      <th>4</th>\n",
       "      <td>This is a terrific game on any pad. Hrs of fun...</td>\n",
       "      <td>1</td>\n",
       "      <td>terrific game pad hr fun grandkids love great ...</td>\n",
       "      <td>1</td>\n",
       "    </tr>\n",
       "    <tr>\n",
       "      <th>...</th>\n",
       "      <td>...</td>\n",
       "      <td>...</td>\n",
       "      <td>...</td>\n",
       "      <td>...</td>\n",
       "    </tr>\n",
       "    <tr>\n",
       "      <th>19995</th>\n",
       "      <td>this app is fricken stupid.it froze on the kin...</td>\n",
       "      <td>0</td>\n",
       "      <td>app fricken stupidit froze kindle wont allow p...</td>\n",
       "      <td>0</td>\n",
       "    </tr>\n",
       "    <tr>\n",
       "      <th>19996</th>\n",
       "      <td>Please add me!!!!! I need neighbors! Ginger101...</td>\n",
       "      <td>1</td>\n",
       "      <td>please add need neighbor ginger1016 thanks bun...</td>\n",
       "      <td>1</td>\n",
       "    </tr>\n",
       "    <tr>\n",
       "      <th>19997</th>\n",
       "      <td>love it!  this game. is awesome. wish it had m...</td>\n",
       "      <td>1</td>\n",
       "      <td>love game awesome wish free stuff house didnt ...</td>\n",
       "      <td>1</td>\n",
       "    </tr>\n",
       "    <tr>\n",
       "      <th>19998</th>\n",
       "      <td>I love love love this app on my side of fashio...</td>\n",
       "      <td>1</td>\n",
       "      <td>love love love app side fashion story fight wo...</td>\n",
       "      <td>1</td>\n",
       "    </tr>\n",
       "    <tr>\n",
       "      <th>19999</th>\n",
       "      <td>This game is a rip off. Here is a list of thin...</td>\n",
       "      <td>0</td>\n",
       "      <td>game rip list thing make betterbull first need...</td>\n",
       "      <td>1</td>\n",
       "    </tr>\n",
       "  </tbody>\n",
       "</table>\n",
       "<p>20000 rows × 4 columns</p>\n",
       "</div>"
      ],
      "text/plain": [
       "                                              reviewText  Positive  \\\n",
       "0      This is a one of the best apps acording to a b...         1   \n",
       "1      This is a pretty good version of the game for ...         1   \n",
       "2      this is a really cool game. there are a bunch ...         1   \n",
       "3      This is a silly game and can be frustrating, b...         1   \n",
       "4      This is a terrific game on any pad. Hrs of fun...         1   \n",
       "...                                                  ...       ...   \n",
       "19995  this app is fricken stupid.it froze on the kin...         0   \n",
       "19996  Please add me!!!!! I need neighbors! Ginger101...         1   \n",
       "19997  love it!  this game. is awesome. wish it had m...         1   \n",
       "19998  I love love love this app on my side of fashio...         1   \n",
       "19999  This game is a rip off. Here is a list of thin...         0   \n",
       "\n",
       "                                       reviewText_tokens  sentiment_with_nltk  \n",
       "0      one best apps acording bunch people agree bomb...                    1  \n",
       "1      pretty good version game free lot different le...                    1  \n",
       "2      really cool game bunch level find golden egg s...                    1  \n",
       "3      silly game frustrating lot fun definitely reco...                    1  \n",
       "4      terrific game pad hr fun grandkids love great ...                    1  \n",
       "...                                                  ...                  ...  \n",
       "19995  app fricken stupidit froze kindle wont allow p...                    0  \n",
       "19996  please add need neighbor ginger1016 thanks bun...                    1  \n",
       "19997  love game awesome wish free stuff house didnt ...                    1  \n",
       "19998  love love love app side fashion story fight wo...                    1  \n",
       "19999  game rip list thing make betterbull first need...                    1  \n",
       "\n",
       "[20000 rows x 4 columns]"
      ]
     },
     "execution_count": 65,
     "metadata": {},
     "output_type": "execute_result"
    }
   ],
   "source": [
    "data[\"sentiment_with_nltk\"] = data[\"reviewText_tokens\"].apply(get_sentiment_with_nltk)\n",
    "data"
   ]
  },
  {
   "cell_type": "code",
   "execution_count": 79,
   "id": "b7c043cb",
   "metadata": {},
   "outputs": [
    {
     "data": {
      "text/html": [
       "<div>\n",
       "<style scoped>\n",
       "    .dataframe tbody tr th:only-of-type {\n",
       "        vertical-align: middle;\n",
       "    }\n",
       "\n",
       "    .dataframe tbody tr th {\n",
       "        vertical-align: top;\n",
       "    }\n",
       "\n",
       "    .dataframe thead th {\n",
       "        text-align: right;\n",
       "    }\n",
       "</style>\n",
       "<table border=\"1\" class=\"dataframe\">\n",
       "  <thead>\n",
       "    <tr style=\"text-align: right;\">\n",
       "      <th></th>\n",
       "      <th>reviewText</th>\n",
       "      <th>Positive</th>\n",
       "      <th>reviewText_tokens</th>\n",
       "      <th>sentiment_with_nltk</th>\n",
       "      <th>sentiment_with_textblob</th>\n",
       "      <th>sentiment_with_vader</th>\n",
       "    </tr>\n",
       "  </thead>\n",
       "  <tbody>\n",
       "    <tr>\n",
       "      <th>0</th>\n",
       "      <td>This is a one of the best apps acording to a b...</td>\n",
       "      <td>1</td>\n",
       "      <td>one best apps acording bunch people agree bomb...</td>\n",
       "      <td>1</td>\n",
       "      <td>1</td>\n",
       "      <td>1</td>\n",
       "    </tr>\n",
       "    <tr>\n",
       "      <th>1</th>\n",
       "      <td>This is a pretty good version of the game for ...</td>\n",
       "      <td>1</td>\n",
       "      <td>pretty good version game free lot different le...</td>\n",
       "      <td>1</td>\n",
       "      <td>1</td>\n",
       "      <td>1</td>\n",
       "    </tr>\n",
       "    <tr>\n",
       "      <th>2</th>\n",
       "      <td>this is a really cool game. there are a bunch ...</td>\n",
       "      <td>1</td>\n",
       "      <td>really cool game bunch level find golden egg s...</td>\n",
       "      <td>1</td>\n",
       "      <td>1</td>\n",
       "      <td>1</td>\n",
       "    </tr>\n",
       "    <tr>\n",
       "      <th>3</th>\n",
       "      <td>This is a silly game and can be frustrating, b...</td>\n",
       "      <td>1</td>\n",
       "      <td>silly game frustrating lot fun definitely reco...</td>\n",
       "      <td>1</td>\n",
       "      <td>0</td>\n",
       "      <td>1</td>\n",
       "    </tr>\n",
       "    <tr>\n",
       "      <th>4</th>\n",
       "      <td>This is a terrific game on any pad. Hrs of fun...</td>\n",
       "      <td>1</td>\n",
       "      <td>terrific game pad hr fun grandkids love great ...</td>\n",
       "      <td>1</td>\n",
       "      <td>1</td>\n",
       "      <td>1</td>\n",
       "    </tr>\n",
       "    <tr>\n",
       "      <th>...</th>\n",
       "      <td>...</td>\n",
       "      <td>...</td>\n",
       "      <td>...</td>\n",
       "      <td>...</td>\n",
       "      <td>...</td>\n",
       "      <td>...</td>\n",
       "    </tr>\n",
       "    <tr>\n",
       "      <th>19995</th>\n",
       "      <td>this app is fricken stupid.it froze on the kin...</td>\n",
       "      <td>0</td>\n",
       "      <td>app fricken stupidit froze kindle wont allow p...</td>\n",
       "      <td>0</td>\n",
       "      <td>0</td>\n",
       "      <td>0</td>\n",
       "    </tr>\n",
       "    <tr>\n",
       "      <th>19996</th>\n",
       "      <td>Please add me!!!!! I need neighbors! Ginger101...</td>\n",
       "      <td>1</td>\n",
       "      <td>please add need neighbor ginger1016 thanks bun...</td>\n",
       "      <td>1</td>\n",
       "      <td>1</td>\n",
       "      <td>1</td>\n",
       "    </tr>\n",
       "    <tr>\n",
       "      <th>19997</th>\n",
       "      <td>love it!  this game. is awesome. wish it had m...</td>\n",
       "      <td>1</td>\n",
       "      <td>love game awesome wish free stuff house didnt ...</td>\n",
       "      <td>1</td>\n",
       "      <td>1</td>\n",
       "      <td>1</td>\n",
       "    </tr>\n",
       "    <tr>\n",
       "      <th>19998</th>\n",
       "      <td>I love love love this app on my side of fashio...</td>\n",
       "      <td>1</td>\n",
       "      <td>love love love app side fashion story fight wo...</td>\n",
       "      <td>1</td>\n",
       "      <td>1</td>\n",
       "      <td>1</td>\n",
       "    </tr>\n",
       "    <tr>\n",
       "      <th>19999</th>\n",
       "      <td>This game is a rip off. Here is a list of thin...</td>\n",
       "      <td>0</td>\n",
       "      <td>game rip list thing make betterbull first need...</td>\n",
       "      <td>1</td>\n",
       "      <td>1</td>\n",
       "      <td>1</td>\n",
       "    </tr>\n",
       "  </tbody>\n",
       "</table>\n",
       "<p>20000 rows × 6 columns</p>\n",
       "</div>"
      ],
      "text/plain": [
       "                                              reviewText  Positive  \\\n",
       "0      This is a one of the best apps acording to a b...         1   \n",
       "1      This is a pretty good version of the game for ...         1   \n",
       "2      this is a really cool game. there are a bunch ...         1   \n",
       "3      This is a silly game and can be frustrating, b...         1   \n",
       "4      This is a terrific game on any pad. Hrs of fun...         1   \n",
       "...                                                  ...       ...   \n",
       "19995  this app is fricken stupid.it froze on the kin...         0   \n",
       "19996  Please add me!!!!! I need neighbors! Ginger101...         1   \n",
       "19997  love it!  this game. is awesome. wish it had m...         1   \n",
       "19998  I love love love this app on my side of fashio...         1   \n",
       "19999  This game is a rip off. Here is a list of thin...         0   \n",
       "\n",
       "                                       reviewText_tokens  sentiment_with_nltk  \\\n",
       "0      one best apps acording bunch people agree bomb...                    1   \n",
       "1      pretty good version game free lot different le...                    1   \n",
       "2      really cool game bunch level find golden egg s...                    1   \n",
       "3      silly game frustrating lot fun definitely reco...                    1   \n",
       "4      terrific game pad hr fun grandkids love great ...                    1   \n",
       "...                                                  ...                  ...   \n",
       "19995  app fricken stupidit froze kindle wont allow p...                    0   \n",
       "19996  please add need neighbor ginger1016 thanks bun...                    1   \n",
       "19997  love game awesome wish free stuff house didnt ...                    1   \n",
       "19998  love love love app side fashion story fight wo...                    1   \n",
       "19999  game rip list thing make betterbull first need...                    1   \n",
       "\n",
       "       sentiment_with_textblob  sentiment_with_vader  \n",
       "0                            1                     1  \n",
       "1                            1                     1  \n",
       "2                            1                     1  \n",
       "3                            0                     1  \n",
       "4                            1                     1  \n",
       "...                        ...                   ...  \n",
       "19995                        0                     0  \n",
       "19996                        1                     1  \n",
       "19997                        1                     1  \n",
       "19998                        1                     1  \n",
       "19999                        1                     1  \n",
       "\n",
       "[20000 rows x 6 columns]"
      ]
     },
     "execution_count": 79,
     "metadata": {},
     "output_type": "execute_result"
    }
   ],
   "source": [
    "data[\"sentiment_with_textblob\"] = data[\"reviewText_tokens\"].apply(get_sentiment_with_textblob)\n",
    "data"
   ]
  },
  {
   "cell_type": "code",
   "execution_count": 67,
   "id": "0a4621fb",
   "metadata": {},
   "outputs": [
    {
     "data": {
      "text/plain": [
       "array([[ 2388,  1566],\n",
       "       [ 2379, 13667]], dtype=int64)"
      ]
     },
     "execution_count": 67,
     "metadata": {},
     "output_type": "execute_result"
    }
   ],
   "source": [
    "confusion_matrix(data[\"sentiment_with_nltk\"],data[\"Positive\"])"
   ]
  },
  {
   "cell_type": "code",
   "execution_count": 80,
   "id": "7fbd43c5",
   "metadata": {},
   "outputs": [
    {
     "data": {
      "text/plain": [
       "array([[ 2259,  1605],\n",
       "       [ 2508, 13628]], dtype=int64)"
      ]
     },
     "execution_count": 80,
     "metadata": {},
     "output_type": "execute_result"
    }
   ],
   "source": [
    "confusion_matrix(data[\"sentiment_with_textblob\"],data[\"Positive\"])"
   ]
  },
  {
   "cell_type": "code",
   "execution_count": 50,
   "id": "56270952",
   "metadata": {},
   "outputs": [
    {
     "name": "stdout",
     "output_type": "stream",
     "text": [
      "              precision    recall  f1-score   support\n",
      "\n",
      "           0       0.50      0.60      0.55      3954\n",
      "           1       0.90      0.85      0.87     16046\n",
      "\n",
      "    accuracy                           0.80     20000\n",
      "   macro avg       0.70      0.73      0.71     20000\n",
      "weighted avg       0.82      0.80      0.81     20000\n",
      "\n"
     ]
    }
   ],
   "source": [
    "print(classification_report(data[\"sentiment\"],data[\"Positive\"]))"
   ]
  },
  {
   "cell_type": "code",
   "execution_count": 52,
   "id": "7bd9df50",
   "metadata": {},
   "outputs": [
    {
     "name": "stdout",
     "output_type": "stream",
     "text": [
      "              precision    recall  f1-score   support\n",
      "\n",
      "           0       0.50      0.61      0.55      3905\n",
      "           1       0.90      0.85      0.88     16095\n",
      "\n",
      "    accuracy                           0.81     20000\n",
      "   macro avg       0.70      0.73      0.72     20000\n",
      "weighted avg       0.82      0.81      0.81     20000\n",
      "\n"
     ]
    }
   ],
   "source": [
    "print(classification_report(data[\"sentiment2\"],data[\"Positive\"]))"
   ]
  },
  {
   "cell_type": "code",
   "execution_count": null,
   "id": "acccff8e",
   "metadata": {},
   "outputs": [],
   "source": []
  }
 ],
 "metadata": {
  "hide_input": false,
  "kernelspec": {
   "display_name": "Python 3 (ipykernel)",
   "language": "python",
   "name": "python3"
  },
  "language_info": {
   "codemirror_mode": {
    "name": "ipython",
    "version": 3
   },
   "file_extension": ".py",
   "mimetype": "text/x-python",
   "name": "python",
   "nbconvert_exporter": "python",
   "pygments_lexer": "ipython3",
   "version": "3.11.5"
  },
  "varInspector": {
   "cols": {
    "lenName": 16,
    "lenType": 16,
    "lenVar": 40
   },
   "kernels_config": {
    "python": {
     "delete_cmd_postfix": "",
     "delete_cmd_prefix": "del ",
     "library": "var_list.py",
     "varRefreshCmd": "print(var_dic_list())"
    },
    "r": {
     "delete_cmd_postfix": ") ",
     "delete_cmd_prefix": "rm(",
     "library": "var_list.r",
     "varRefreshCmd": "cat(var_dic_list()) "
    }
   },
   "types_to_exclude": [
    "module",
    "function",
    "builtin_function_or_method",
    "instance",
    "_Feature"
   ],
   "window_display": false
  }
 },
 "nbformat": 4,
 "nbformat_minor": 5
}
